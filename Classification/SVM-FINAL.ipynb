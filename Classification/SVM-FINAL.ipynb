{
 "cells": [
  {
   "cell_type": "markdown",
   "id": "1d1128cf",
   "metadata": {},
   "source": [
    "## Implementación de Máquina de Soporte Vectorial con scipy optimize\n",
    "\n"
   ]
  },
  {
   "cell_type": "markdown",
   "id": "86e73bbf",
   "metadata": {},
   "source": [
    "\n",
    "Supongamos un conjunto de datos con $p$ características y $n$ muestras que nos permitirán clasificar cada muestra según 2 clases distintas. Para ello podríamos valernos de un hiperplano (por ej. una recta en $ \\mathbb{R}^{2} $, sí las clases son linearmente separables). Un vector $w$, normal al hiperplano nos provería de la siguiente ecuación:\n",
    "\n",
    "$$ w^T . x + b = 0, w \\in \\mathbb{R}^{p}, x \\in \\mathbb{R}^{p}, b \\in \\mathbb{R} $$\n",
    "\n",
    "Dado un vector $x_0$ perteneciente al hiperplano, la distancia de un vector $x$ al hiperplano es:\n",
    "\n",
    "$$ w . (x - x_0) = w^T . x + b $$\n",
    "\n",
    "Sí las etiquetas de cada clase $y$, tal que $y \\in \\{-1, 1\\}$, la distancia con su signo es:\n",
    "\n",
    "$$ y (w^T . x + b) $$\n",
    "\n",
    "\n",
    "\n",
    "Para poder clasificar cada vector $x$ bastaría con ver su signo: siendo $x^+$ un vector de la clase $1$ y $x^-$ un vector de la clase $-1$, entonces:\n",
    "\n",
    "$$ w^T . x^+ + b \\ge 0$$        $$w^T . x^- + b \\leq 0$$\n",
    "\n",
    "Sí consideramos dos hiperplanos paralelos y equidistantes al de nuestra solución, los cuáles llamaremos margenes, podemos requerir que nuestro modelo busque una separación de clases más amplia tal que entre esos margenes no existan vectores, entonces para ese caso se debería satisfacer: \n",
    "\n",
    "$$ y(w^T . x + b) \\ge 1$$ con $y=1$ para $x^+$, $y=-1$ para $x^- $. $(1)$\n",
    "\n",
    "Y los vectores $x'$ que cumplen la igualdad $y (w^T . x' + b) -1 = 0$ $(2)$ son los llamados vectores soportes que viven exactamente en alguno de esos margenes, dependiendo el valor de $y$.\n",
    "\n",
    "\n"
   ]
  },
  {
   "cell_type": "markdown",
   "id": "518f659b",
   "metadata": {},
   "source": [
    "![Vectores soporte](https://ichi.pro/assets/images/max/724/1*Rpw8EXp3kI_dObeSlZ4RWw.png)"
   ]
  },
  {
   "cell_type": "markdown",
   "id": "4a5e6e09",
   "metadata": {},
   "source": [
    "Sí bien para esta implementación solo se tendrá en cuenta el hiperplano de separación para la clasificación y no los márgenes equidistantes mencionados anteriormente, esta condición también lleva a la maximización del problema en cuestión.\n",
    "\n",
    "\n",
    "Podemos calcular la distancia $d$ entre estos dos margenes, sabiendo la distancia del margen de la clase $-1$: $d_{-}$ y de la clase $1$: $d_{+}$. \n",
    "$$ d_{-} = \\frac{x^- . w}{\\Vert w \\Vert}$$ $$ d_{+} = \\frac{x^+ . w}{\\Vert w \\Vert}$$\n",
    "\n",
    "$$ d = d_{+} - d{-} =  \\frac{x^+ . w - x^- . w}{\\Vert w \\Vert}$$\n",
    "\n",
    "Para los vectores soporte solo basta reemplazar en $(2)$  en $d$ con $y = 1$ para los vectores soportes de la clase 1 y $y = -1$ para los vectores de la clase $-1$, obteniendo: \n",
    "\n",
    "$$ d =  \\frac {1 + b - 1 + b }{\\Vert w \\Vert} = \\frac {2}{\\Vert w \\Vert}  $$\n",
    "\n",
    "$d$ es lo que debemos maximizar, o equivalentemente mimizar: \n",
    "\n",
    "$$ d =  \\frac {1}{2} w^T . w \\ \\ \\ \\ (3) $$      \n",
    "\n",
    "Sujeto a la condición  $(1)$, la cuál podemos reescribir: \n",
    "\n",
    "$$ -y(w^T . x + b) +1\\le 0 \\ \\ \\ \\ (4) $$ \n",
    "\n",
    "Tanto $(3)$ como $(4)$ son funciones convexas, por lo que la solución al problema de minimización debe satisfacer las condiciones de **Karush Kun Tucker**, principalmente se debe verificar:\n",
    "\n",
    "$$ \\alpha_i g_i w^* = 0 \\ \\ \\ \\ (a) $$\n",
    "\n",
    "$$ g_i w^* \\le 0  \\ \\ \\ \\ (b) $$\n",
    "\n",
    "$$ \\alpha_i \\ge 0 \\ \\ \\ \\ (c) $$\n",
    "\n",
    "Con $i$ de 1,...,n, $w^*$ la solución al problema y $g_i$ siendo la condición $(4)$.\n",
    "Se puede ver que $(4)$ será $0$ solo en los vectores soporte, por lo que $\\alpha_i$ serán valores no nulos solo para los vectores soporte $x_i'$. Esta condición será de vital importancia para identificarlos en la implementación.\n",
    "\n",
    "Para resolver este problema de minimización, se pueden utilizar los multiplicadores de Lagrange obteniendo la nueva función $\\mathcal{L}$ : \n",
    "\n",
    "$$\\mathcal{L}(w, b, \\alpha) = \\frac 12 \\Vert w \\Vert^2 - \\sum_{i=0}^n \\alpha_i (y_i(x_i^T w + b) - 1)  \\ \\ \\ \\ (5)$$\n",
    "\n",
    "Para poder minimizar se debe encontrar dónde las derivadas parciales de $\\mathcal{L}$ son iguales a 0:\n",
    "\n",
    "$$\\begin{align}\n",
    "\\frac{d\\mathcal{L}}{dw} = \\sum_{i=0}^n \\alpha_i y_i x_i &= w \\ \\ \\ (6) \\\\\n",
    "\\frac{d\\mathcal{L}}{db} = \\sum_{i=0}^n \\alpha_i y_i &= 0 \\ \\ \\ \\ (7)\n",
    "\\end{align}$$\n",
    "\n",
    "Reemplazando $(6)$ en $(5)$ se obtiene: \n",
    "\n",
    "$$\\mathcal{L} (\\alpha) = \\sum_{i=0}^n \\alpha_i - \\frac 12 \\sum_{i=0}^n \\sum_{k=0}^n \\alpha_i \\alpha_k y_i y_k (x_i^T . x_k) \\ \\ \\ \\ (8) $$\n",
    "\n",
    "Finalmente hemos llegado a la expresión que debemos minimizar. Es importante notar el producto punto $(x_i^T . x_k)$ el cuál puede ser objeto de transformaciones para problemas de clases no linealmente separables.\n",
    "\n",
    "Las restricciones que utilizaremos en la implementación serán:\n",
    "\n",
    "$$ \\alpha_i \\ge 0 \\ \\ \\ \\ (c) $$\n",
    "$$ \\sum_{i=0}^n \\alpha_i y_i = 0 \\ \\ \\ \\ (7) $$\n",
    "\n",
    "\n",
    "Para resolver el problema se utilizará de la librería **scipy.optimize** la función **minimize** [scipy.optimize.minimize](https://docs.scipy.org/doc/scipy/reference/generated/scipy.optimize.minimize.html).\n",
    "\n",
    "Para ello se creará la clase **SVM**, que tendrá un método **fit** para entrenar el modelo con los datos ingresado y luego una función propia de predicción **predict** para testearlo con nuevos datos. "
   ]
  },
  {
   "cell_type": "code",
   "execution_count": 60,
   "id": "dae5cf52",
   "metadata": {},
   "outputs": [],
   "source": [
    "import pandas as pd\n",
    "import numpy as np\n",
    "import matplotlib.pyplot as plt\n",
    "from sklearn.preprocessing import MinMaxScaler\n",
    "from scipy.optimize import minimize\n",
    "from sklearn.datasets import load_breast_cancer"
   ]
  },
  {
   "cell_type": "code",
   "execution_count": 88,
   "id": "0d0eb250",
   "metadata": {},
   "outputs": [],
   "source": [
    "class SVM:\n",
    "    \n",
    "    def __init__(self):\n",
    "        self.alpha = None #multiplicadores de lagrange\n",
    "        self.w = None #vector perpendicular al hiperplano de separación\n",
    "        self.supportVectors = None \n",
    "        self.b = None \n",
    "        \n",
    "        \n",
    "    def fit(self, X, y):\n",
    "        self.X = X\n",
    "        N = len(y)\n",
    "        # HXy será la Matriz de productos punto de la ecuación a optimizar\n",
    "        Xy = X * y[:, np.newaxis]\n",
    "        HXy = Xy @ Xy.T\n",
    "        \n",
    "        # Lagrangiana\n",
    "        def Ld0(H, alpha):\n",
    "            return alpha.sum() - 0.5 * alpha.dot(alpha.dot(H)) #(8)\n",
    "\n",
    "        # Derivada parcial de la función Lagrangiana respecto a alfa\n",
    "        def Ld0_(H, alpha):\n",
    "            return np.ones_like(alpha) - alpha.dot(H)\n",
    "\n",
    "        # Restricciones :\n",
    "        # -  1: sum_i alpha_i*y_i = 0 (7)\n",
    "        # - 2: alpha_i >= 0 restriccion por condición de KKT (c), nos auxiliamos de 2 matrices para expresar la desigualdad:\n",
    "        # la identidad A para realizar el producto punto con los alphas y la matriz de 0 d\n",
    "        A = -np.eye(N)\n",
    "        d = np.zeros(N)\n",
    "        restr = ({'type': 'eq',   'fun': lambda a: np.dot(a, y), 'jac': lambda a: y}, #(7)\n",
    "                       {'type': 'ineq', 'fun': lambda a: d - np.dot(A, a), 'jac': lambda a: -A}) #(c)\n",
    "\n",
    "        # Minimizamos el opuesto de Ld0_ para maximizar la función\n",
    "        optRes = minimize(fun=lambda a: -Ld0(HXy, a),\n",
    "                                   x0=np.ones(N), \n",
    "                                   jac=lambda a: -Ld0_(HXy, a), \n",
    "                                   constraints=restr)\n",
    "        self.alpha = optRes.x\n",
    "        self.w = np.sum((self.alpha[:, np.newaxis] * Xy), axis=0)  #(6)\n",
    "        epsilon = 1e-6 \n",
    "        self.supportVectors = X[self.alpha > epsilon] #los vectores del set de datos que tengan su alpha correspondiente mayor a 0 son vectores soporte\n",
    "    \n",
    "        \n",
    "        supportLabels = y[self.alpha > epsilon]\n",
    "        #calculamos b con el primer vector soporte \n",
    "        self.b = supportLabels[0] - self.supportVectors[0].T @ self.w\n",
    "        \n",
    "        \n",
    "        \n",
    "    def predict(self, test):\n",
    "        \n",
    "        \n",
    "        pred = np.empty(len(test))  # array of predictions\n",
    "        for i, s in enumerate(test):\n",
    "            \n",
    "            if s.dot(self.w) + self.b <0: #verificación según ecuación del hiperplano separador \n",
    "                pred[i] = -1\n",
    "            else:\n",
    "                pred[i] = 1\n",
    "            \n",
    "        \n",
    "        return pred\n",
    "    \n"
   ]
  },
  {
   "cell_type": "code",
   "execution_count": 89,
   "id": "100817e1",
   "metadata": {},
   "outputs": [],
   "source": [
    "#Funciones para graficar el set de datos, el hiperplano separador y el margen donde se encuentran los vectores soporte\n",
    "def plotLine(ax, xRange, w, x0, label, color='grey', linestyle='-', alpha=1.):\n",
    "    \n",
    "    if type(x0) == int or type(x0) == float or type(x0) == np.float64:\n",
    "        x0 = [0, -x0 / w[1]]\n",
    "    yy = -(w[0] / w[1]) * (xRange - x0[0]) + x0[1]\n",
    "    ax.plot(xRange, yy, color=color, label=label, linestyle=linestyle)\n",
    "    \n",
    "def plotSvm(X, y, support=None, w=None, intercept=0., label='Data', separatorLabel='Hiperplano separador', \n",
    "            ax=None, bound=[[-1., 1.], [-1., 1.]]):\n",
    "    \n",
    "    if ax is None:\n",
    "        fig, ax = plt.subplots(1)\n",
    "    \n",
    "    im = ax.scatter(X[:,0], X[:,1], c=y, cmap=cmap, alpha=0.5, label=label)\n",
    "    if support is not None:\n",
    "        ax.scatter(support[:,0], support[:,1], label='Support', s=100, facecolors='none', \n",
    "                   edgecolors='y', color='y')\n",
    "        print(\"N° de vectores soporte = %d\" % (len(support)))\n",
    "    #Hiperplano de separación (primeras 2 componentes)\n",
    "    if w is not None:\n",
    "        xx = np.array(bound[0])\n",
    "        plotLine(ax, xx, w, intercept, separatorLabel)\n",
    "        # Margenes\n",
    "        if support is not None:\n",
    "            signedDist = np.matmul(support, w)\n",
    "            margin = np.max(signedDist) - np.min(signedDist) * np.sqrt(np.dot(w, w))\n",
    "            supportMaxNeg = support[np.argmin(signedDist)]\n",
    "            plotLine(ax, xx, w, supportMaxNeg, 'Margen -', linestyle='-.', alpha=0.8)\n",
    "            supportMaxPos = support[np.argmax(signedDist)]\n",
    "            plotLine(ax, xx, w, supportMaxPos, 'Margen +', linestyle='--', alpha=0.8)\n",
    "            \n",
    "    ax.legend(loc='upper left')\n",
    "    ax.grid()\n",
    "    ax.set_xlim(bound[0])\n",
    "    ax.set_ylim(bound[1])\n",
    "    cb = plt.colorbar(im, ax=ax)\n",
    "    loc = np.arange(-1,1,1)\n",
    "    cb.set_ticks(loc)\n",
    "    cb.set_ticklabels(['-1','1'])"
   ]
  },
  {
   "cell_type": "code",
   "execution_count": 90,
   "id": "ee75666a",
   "metadata": {},
   "outputs": [],
   "source": [
    "def generateBatch(n, mu=0.5, sigma=0.2):\n",
    "    #Generamos un Batch de prueba con 2 clases linealmente separables de dos características \n",
    "    #y distribución gaussiana de cada lado del origen\n",
    "    X = np.random.normal(mu, sigma, (n, 2))\n",
    "    yB = np.random.uniform(0, 1, n) > 0.5\n",
    "    # y is in {-1, 1}\n",
    "    y = 2. * yB - 1\n",
    "    X *= y[:, np.newaxis]\n",
    "    X -= X.mean(axis=0)\n",
    "    return X, y"
   ]
  },
  {
   "cell_type": "code",
   "execution_count": 91,
   "id": "cb8b4d1e",
   "metadata": {},
   "outputs": [],
   "source": [
    "xTrain0, yTrain0 = generateBatch(100, sigma=0.2)"
   ]
  },
  {
   "cell_type": "code",
   "execution_count": 92,
   "id": "53e41652",
   "metadata": {},
   "outputs": [
    {
     "data": {
      "text/plain": [
       "array([[ 0.12528914,  0.33957536],\n",
       "       [-0.27022992, -0.05801427]])"
      ]
     },
     "execution_count": 92,
     "metadata": {},
     "output_type": "execute_result"
    }
   ],
   "source": [
    "model00 = SVM()\n",
    "model00.fit(xTrain0, yTrain0)\n",
    "model00.supportVectors"
   ]
  },
  {
   "cell_type": "code",
   "execution_count": 93,
   "id": "88fa82d9",
   "metadata": {},
   "outputs": [
    {
     "data": {
      "text/plain": [
       "(-0.17366198253740395, array([2.51512187, 2.52828868]))"
      ]
     },
     "execution_count": 93,
     "metadata": {},
     "output_type": "execute_result"
    }
   ],
   "source": [
    "model00.b, model00.w"
   ]
  },
  {
   "cell_type": "code",
   "execution_count": 94,
   "id": "f98785da",
   "metadata": {},
   "outputs": [],
   "source": [
    "import matplotlib.colors as pltcolors\n",
    "colors = ['blue','red']\n",
    "cmap = pltcolors.ListedColormap(colors)\n",
    "nFeatures = 2\n",
    "N = 100"
   ]
  },
  {
   "cell_type": "code",
   "execution_count": 95,
   "id": "6192df34",
   "metadata": {},
   "outputs": [
    {
     "name": "stdout",
     "output_type": "stream",
     "text": [
      "N° de vectores soporte = 2\n"
     ]
    },
    {
     "data": {
      "text/plain": [
       "Text(0.5, 1.0, 'Prueba')"
      ]
     },
     "execution_count": 95,
     "metadata": {},
     "output_type": "execute_result"
    },
    {
     "data": {
      "image/png": "[encoded data removed]",
      "text/plain": [
       "<Figure size 864x504 with 2 Axes>"
      ]
     },
     "metadata": {
      "needs_background": "light"
     },
     "output_type": "display_data"
    }
   ],
   "source": [
    "fig, ax = plt.subplots(1, figsize=(12, 7))\n",
    "plotSvm(xTrain0, yTrain0, model00.supportVectors, model00.w, model00.b, label= None, ax=ax)\n",
    "ax.set_title(\"Prueba\")"
   ]
  },
  {
   "cell_type": "markdown",
   "id": "f1506971",
   "metadata": {},
   "source": [
    "## Caso de Prueba: Set de datos de sklearn de Cancer de mama ([info](https://docs.scipy.org/doc/scipy/reference/generated/scipy.optimize.minimize.html))"
   ]
  },
  {
   "cell_type": "code",
   "execution_count": 96,
   "id": "34a46589",
   "metadata": {},
   "outputs": [
    {
     "data": {
      "text/plain": [
       "dict_keys(['data', 'target', 'frame', 'target_names', 'DESCR', 'feature_names', 'filename'])"
      ]
     },
     "execution_count": 96,
     "metadata": {},
     "output_type": "execute_result"
    }
   ],
   "source": [
    "DT = load_breast_cancer()\n",
    "DT.keys()"
   ]
  },
  {
   "cell_type": "code",
   "execution_count": 97,
   "id": "8800a65b",
   "metadata": {},
   "outputs": [
    {
     "data": {
      "text/plain": [
       "array(['mean radius', 'mean texture', 'mean perimeter', 'mean area',\n",
       "       'mean smoothness', 'mean compactness', 'mean concavity',\n",
       "       'mean concave points', 'mean symmetry', 'mean fractal dimension',\n",
       "       'radius error', 'texture error', 'perimeter error', 'area error',\n",
       "       'smoothness error', 'compactness error', 'concavity error',\n",
       "       'concave points error', 'symmetry error',\n",
       "       'fractal dimension error', 'worst radius', 'worst texture',\n",
       "       'worst perimeter', 'worst area', 'worst smoothness',\n",
       "       'worst compactness', 'worst concavity', 'worst concave points',\n",
       "       'worst symmetry', 'worst fractal dimension'], dtype='<U23')"
      ]
     },
     "execution_count": 97,
     "metadata": {},
     "output_type": "execute_result"
    }
   ],
   "source": [
    "DT['feature_names']"
   ]
  },
  {
   "cell_type": "code",
   "execution_count": 98,
   "id": "ddef4f4a",
   "metadata": {},
   "outputs": [
    {
     "name": "stdout",
     "output_type": "stream",
     "text": [
      ".. _breast_cancer_dataset:\n",
      "\n",
      "Breast cancer wisconsin (diagnostic) dataset\n",
      "--------------------------------------------\n",
      "\n",
      "**Data Set Characteristics:**\n",
      "\n",
      "    :Number of Instances: 569\n",
      "\n",
      "    :Number of Attributes: 30 numeric, predictive attributes and the class\n",
      "\n",
      "    :Attribute Information:\n",
      "        - radius (mean of distances from center to points on the perimeter)\n",
      "        - texture (standard deviation of gray-scale values)\n",
      "        - perimeter\n",
      "        - area\n",
      "        - smoothness (local variation in radius lengths)\n",
      "        - compactness (perimeter^2 / area - 1.0)\n",
      "        - concavity (severity of concave portions of the contour)\n",
      "        - concave points (number of concave portions of the contour)\n",
      "        - symmetry\n",
      "        - fractal dimension (\"coastline approximation\" - 1)\n",
      "\n",
      "        The mean, standard error, and \"worst\" or largest (mean of the three\n",
      "        worst/largest values) of these features were computed for each image,\n",
      "        resulting in 30 features.  For instance, field 0 is Mean Radius, field\n",
      "        10 is Radius SE, field 20 is Worst Radius.\n",
      "\n",
      "        - class:\n",
      "                - WDBC-Malignant\n",
      "                - WDBC-Benign\n",
      "\n",
      "    :Summary Statistics:\n",
      "\n",
      "    ===================================== ====== ======\n",
      "                                           Min    Max\n",
      "    ===================================== ====== ======\n",
      "    radius (mean):                        6.981  28.11\n",
      "    texture (mean):                       9.71   39.28\n",
      "    perimeter (mean):                     43.79  188.5\n",
      "    area (mean):                          143.5  2501.0\n",
      "    smoothness (mean):                    0.053  0.163\n",
      "    compactness (mean):                   0.019  0.345\n",
      "    concavity (mean):                     0.0    0.427\n",
      "    concave points (mean):                0.0    0.201\n",
      "    symmetry (mean):                      0.106  0.304\n",
      "    fractal dimension (mean):             0.05   0.097\n",
      "    radius (standard error):              0.112  2.873\n",
      "    texture (standard error):             0.36   4.885\n",
      "    perimeter (standard error):           0.757  21.98\n",
      "    area (standard error):                6.802  542.2\n",
      "    smoothness (standard error):          0.002  0.031\n",
      "    compactness (standard error):         0.002  0.135\n",
      "    concavity (standard error):           0.0    0.396\n",
      "    concave points (standard error):      0.0    0.053\n",
      "    symmetry (standard error):            0.008  0.079\n",
      "    fractal dimension (standard error):   0.001  0.03\n",
      "    radius (worst):                       7.93   36.04\n",
      "    texture (worst):                      12.02  49.54\n",
      "    perimeter (worst):                    50.41  251.2\n",
      "    area (worst):                         185.2  4254.0\n",
      "    smoothness (worst):                   0.071  0.223\n",
      "    compactness (worst):                  0.027  1.058\n",
      "    concavity (worst):                    0.0    1.252\n",
      "    concave points (worst):               0.0    0.291\n",
      "    symmetry (worst):                     0.156  0.664\n",
      "    fractal dimension (worst):            0.055  0.208\n",
      "    ===================================== ====== ======\n",
      "\n",
      "    :Missing Attribute Values: None\n",
      "\n",
      "    :Class Distribution: 212 - Malignant, 357 - Benign\n",
      "\n",
      "    :Creator:  Dr. William H. Wolberg, W. Nick Street, Olvi L. Mangasarian\n",
      "\n",
      "    :Donor: Nick Street\n",
      "\n",
      "    :Date: November, 1995\n",
      "\n",
      "This is a copy of UCI ML Breast Cancer Wisconsin (Diagnostic) datasets.\n",
      "https://goo.gl/U2Uwz2\n",
      "\n",
      "Features are computed from a digitized image of a fine needle\n",
      "aspirate (FNA) of a breast mass.  They describe\n",
      "characteristics of the cell nuclei present in the image.\n",
      "\n",
      "Separating plane described above was obtained using\n",
      "Multisurface Method-Tree (MSM-T) [K. P. Bennett, \"Decision Tree\n",
      "Construction Via Linear Programming.\" Proceedings of the 4th\n",
      "Midwest Artificial Intelligence and Cognitive Science Society,\n",
      "pp. 97-101, 1992], a classification method which uses linear\n",
      "programming to construct a decision tree.  Relevant features\n",
      "were selected using an exhaustive search in the space of 1-4\n",
      "features and 1-3 separating planes.\n",
      "\n",
      "The actual linear program used to obtain the separating plane\n",
      "in the 3-dimensional space is that described in:\n",
      "[K. P. Bennett and O. L. Mangasarian: \"Robust Linear\n",
      "Programming Discrimination of Two Linearly Inseparable Sets\",\n",
      "Optimization Methods and Software 1, 1992, 23-34].\n",
      "\n",
      "This database is also available through the UW CS ftp server:\n",
      "\n",
      "ftp ftp.cs.wisc.edu\n",
      "cd math-prog/cpo-dataset/machine-learn/WDBC/\n",
      "\n",
      ".. topic:: References\n",
      "\n",
      "   - W.N. Street, W.H. Wolberg and O.L. Mangasarian. Nuclear feature extraction \n",
      "     for breast tumor diagnosis. IS&T/SPIE 1993 International Symposium on \n",
      "     Electronic Imaging: Science and Technology, volume 1905, pages 861-870,\n",
      "     San Jose, CA, 1993.\n",
      "   - O.L. Mangasarian, W.N. Street and W.H. Wolberg. Breast cancer diagnosis and \n",
      "     prognosis via linear programming. Operations Research, 43(4), pages 570-577, \n",
      "     July-August 1995.\n",
      "   - W.H. Wolberg, W.N. Street, and O.L. Mangasarian. Machine learning techniques\n",
      "     to diagnose breast cancer from fine-needle aspirates. Cancer Letters 77 (1994) \n",
      "     163-171.\n"
     ]
    }
   ],
   "source": [
    "print(DT['DESCR'])"
   ]
  },
  {
   "cell_type": "code",
   "execution_count": 99,
   "id": "9b629b62",
   "metadata": {},
   "outputs": [
    {
     "name": "stdout",
     "output_type": "stream",
     "text": [
      "['malignant' 'benign']\n"
     ]
    }
   ],
   "source": [
    "print(DT['target_names'])"
   ]
  },
  {
   "cell_type": "code",
   "execution_count": 100,
   "id": "0d144493",
   "metadata": {},
   "outputs": [
    {
     "name": "stdout",
     "output_type": "stream",
     "text": [
      "[0 0 0 0 0 0 0 0 0 0 0 0 0 0 0 0 0 0 0 1 1 1 0 0 0 0 0 0 0 0 0 0 0 0 0 0 0\n",
      " 1 0 0 0 0 0 0 0 0 1 0 1 1 1 1 1 0 0 1 0 0 1 1 1 1 0 1 0 0 1 1 1 1 0 1 0 0\n",
      " 1 0 1 0 0 1 1 1 0 0 1 0 0 0 1 1 1 0 1 1 0 0 1 1 1 0 0 1 1 1 1 0 1 1 0 1 1\n",
      " 1 1 1 1 1 1 0 0 0 1 0 0 1 1 1 0 0 1 0 1 0 0 1 0 0 1 1 0 1 1 0 1 1 1 1 0 1\n",
      " 1 1 1 1 1 1 1 1 0 1 1 1 1 0 0 1 0 1 1 0 0 1 1 0 0 1 1 1 1 0 1 1 0 0 0 1 0\n",
      " 1 0 1 1 1 0 1 1 0 0 1 0 0 0 0 1 0 0 0 1 0 1 0 1 1 0 1 0 0 0 0 1 1 0 0 1 1\n",
      " 1 0 1 1 1 1 1 0 0 1 1 0 1 1 0 0 1 0 1 1 1 1 0 1 1 1 1 1 0 1 0 0 0 0 0 0 0\n",
      " 0 0 0 0 0 0 0 1 1 1 1 1 1 0 1 0 1 1 0 1 1 0 1 0 0 1 1 1 1 1 1 1 1 1 1 1 1\n",
      " 1 0 1 1 0 1 0 1 1 1 1 1 1 1 1 1 1 1 1 1 1 0 1 1 1 0 1 0 1 1 1 1 0 0 0 1 1\n",
      " 1 1 0 1 0 1 0 1 1 1 0 1 1 1 1 1 1 1 0 0 0 1 1 1 1 1 1 1 1 1 1 1 0 0 1 0 0\n",
      " 0 1 0 0 1 1 1 1 1 0 1 1 1 1 1 0 1 1 1 0 1 1 0 0 1 1 1 1 1 1 0 1 1 1 1 1 1\n",
      " 1 0 1 1 1 1 1 0 1 1 0 1 1 1 1 1 1 1 1 1 1 1 1 0 1 0 0 1 0 1 1 1 1 1 0 1 1\n",
      " 0 1 0 1 1 0 1 0 1 1 1 1 1 1 1 1 0 0 1 1 1 1 1 1 0 1 1 1 1 1 1 1 1 1 1 0 1\n",
      " 1 1 1 1 1 1 0 1 0 1 1 0 1 1 1 1 1 0 0 1 0 1 0 1 1 1 1 1 0 1 1 0 1 0 1 0 0\n",
      " 1 1 1 0 1 1 1 1 1 1 1 1 1 1 1 0 1 0 0 1 1 1 1 1 1 1 1 1 1 1 1 1 1 1 1 1 1\n",
      " 1 1 1 1 1 1 1 0 0 0 0 0 0 1]\n"
     ]
    }
   ],
   "source": [
    "print(DT['target'])"
   ]
  },
  {
   "cell_type": "code",
   "execution_count": 101,
   "id": "35bd23d5",
   "metadata": {},
   "outputs": [
    {
     "data": {
      "text/plain": [
       "(569, 30)"
      ]
     },
     "execution_count": 101,
     "metadata": {},
     "output_type": "execute_result"
    }
   ],
   "source": [
    "DT['data'].shape"
   ]
  },
  {
   "cell_type": "code",
   "execution_count": 109,
   "id": "3b906d99",
   "metadata": {},
   "outputs": [],
   "source": [
    "from sklearn.datasets import load_breast_cancer\n",
    "DT = load_breast_cancer()\n",
    "X = DT['data']\n",
    "y = DT['target']"
   ]
  },
  {
   "cell_type": "code",
   "execution_count": 110,
   "id": "d4f21df2",
   "metadata": {},
   "outputs": [
    {
     "name": "stdout",
     "output_type": "stream",
     "text": [
      "Counter({1: 357, 0: 212})\n"
     ]
    }
   ],
   "source": [
    "import collections\n",
    "print(collections.Counter(y))"
   ]
  },
  {
   "cell_type": "code",
   "execution_count": 130,
   "id": "47be644a",
   "metadata": {},
   "outputs": [],
   "source": [
    "\n",
    "def preprocess(X,y):\n",
    "    minmax = MinMaxScaler()\n",
    "    X = minmax.fit_transform(X)\n",
    "    for i in range(len(y)):\n",
    "        if y[i] == 0:\n",
    "            y[i] = 1\n",
    "        else:\n",
    "            y[i] = -1\n",
    "    return X,y\n",
    "X,y = preprocess(X,y)"
   ]
  },
  {
   "cell_type": "code",
   "execution_count": 131,
   "id": "213c0f52",
   "metadata": {},
   "outputs": [],
   "source": [
    "\n",
    "from sklearn.model_selection import train_test_split\n",
    "X_train, X_test, y_train, y_test = train_test_split(X, y, test_size=0.25, random_state=11)"
   ]
  },
  {
   "cell_type": "code",
   "execution_count": 132,
   "id": "e16bacbe",
   "metadata": {},
   "outputs": [
    {
     "data": {
      "text/plain": [
       "(array([-2.77659569e+02,  1.09423989e+01, -4.57206634e+01,  2.08320889e+02,\n",
       "         3.61012687e+01, -1.51557080e+02,  5.95588179e+01,  5.11428571e+01,\n",
       "        -1.26763753e+01,  2.54411839e+01,  1.73087405e+01, -7.45300753e+00,\n",
       "         7.45913432e+01,  1.13262180e+02, -9.63114274e-02, -2.31063607e+01,\n",
       "        -4.41527081e+01,  1.05930667e+02,  1.53542991e+01, -1.33180070e+02,\n",
       "         2.85493058e+01,  6.02745396e+01,  4.07505995e+01,  2.94609209e+02,\n",
       "        -9.27379872e+00,  6.97560979e+01, -3.72695292e+01,  1.09873005e+01,\n",
       "         1.48478043e+01,  1.04336178e+02]),\n",
       " -80.02587006041684,\n",
       " 33)"
      ]
     },
     "execution_count": 132,
     "metadata": {},
     "output_type": "execute_result"
    }
   ],
   "source": [
    "\n",
    "model01 = SVM()\n",
    "model01.fit(X_train, y_train)\n",
    "model01.w, model01.b, len(model01.supportVectors)\n"
   ]
  },
  {
   "cell_type": "code",
   "execution_count": 133,
   "id": "582da1a1",
   "metadata": {},
   "outputs": [
    {
     "name": "stdout",
     "output_type": "stream",
     "text": [
      "Vector w: [-2.77659569e+02  1.09423989e+01 -4.57206634e+01  2.08320889e+02\n",
      "  3.61012687e+01 -1.51557080e+02  5.95588179e+01  5.11428571e+01\n",
      " -1.26763753e+01  2.54411839e+01  1.73087405e+01 -7.45300753e+00\n",
      "  7.45913432e+01  1.13262180e+02 -9.63114274e-02 -2.31063607e+01\n",
      " -4.41527081e+01  1.05930667e+02  1.53542991e+01 -1.33180070e+02\n",
      "  2.85493058e+01  6.02745396e+01  4.07505995e+01  2.94609209e+02\n",
      " -9.27379872e+00  6.97560979e+01 -3.72695292e+01  1.09873005e+01\n",
      "  1.48478043e+01  1.04336178e+02]\n",
      "Valor de b: -80.02587006041684\n",
      "N° de vectores soporte 33\n"
     ]
    }
   ],
   "source": [
    "print(f\"Vector w: {model01.w}\")\n",
    "print(f\"Valor de b: {model01.b}\")\n",
    "print(f\"N° de vectores soporte {len(model01.supportVectors)}\")"
   ]
  },
  {
   "cell_type": "code",
   "execution_count": 134,
   "id": "bb64a53a",
   "metadata": {},
   "outputs": [
    {
     "name": "stdout",
     "output_type": "stream",
     "text": [
      "N° de vectores soporte = 33\n"
     ]
    },
    {
     "data": {
      "text/plain": [
       "Text(0, 0.5, 'mean texture')"
      ]
     },
     "execution_count": 134,
     "metadata": {},
     "output_type": "execute_result"
    },
    {
     "data": {
      "image/png": "[encoded data removed]",
      "text/plain": [
       "<Figure size 864x504 with 2 Axes>"
      ]
     },
     "metadata": {
      "needs_background": "light"
     },
     "output_type": "display_data"
    }
   ],
   "source": [
    "fig, ax = plt.subplots(1, figsize=(12, 7))\n",
    "plotSvm(X_train, y_train, model01.supportVectors, model01.w, model01.b, label=None, ax=ax)\n",
    "ax.set_title(\"Separación de casos de células malignas y benignas con SVM\")\n",
    "ax.set_xlabel(DT['feature_names'][0])\n",
    "ax.set_ylabel(DT['feature_names'][1])"
   ]
  },
  {
   "cell_type": "markdown",
   "id": "b0ff6a28",
   "metadata": {},
   "source": [
    "#### Al graficar solo 2 dimensiones vemos que el hiperplano de separación no se encuentra en el 0 para estas 2 variables"
   ]
  },
  {
   "cell_type": "markdown",
   "id": "2a707740",
   "metadata": {},
   "source": [
    "### Desempeño del modelo"
   ]
  },
  {
   "cell_type": "code",
   "execution_count": 116,
   "id": "08cc5541",
   "metadata": {},
   "outputs": [],
   "source": [
    "def matriz_confusion(predicciones,X_test,y_test):\n",
    "    true_positives = 0\n",
    "    true_negatives = 0\n",
    "    false_positives = 0\n",
    "    false_negatives = 0\n",
    "    for i in range(len(X_test)):\n",
    "        if predicciones[i] == y_test[i]:\n",
    "            if predicciones[i] == 1:\n",
    "                true_positives +=1\n",
    "            else:\n",
    "                true_negatives +=1\n",
    "        else:\n",
    "            if predicciones[i] == 1:\n",
    "                false_positives += 1\n",
    "            else:\n",
    "                false_negatives += 1\n",
    "                \n",
    "    print(f\"Verdaderos positivos : {true_positives}\")\n",
    "    print(f\"Verdaderos negativos : {true_negatives}\")\n",
    "    print(f\"Falsos positivos : {false_positives}\")\n",
    "    print(f\"Falsos negativos : {false_negatives}\")\n",
    "    return true_positives,true_negatives,false_positives,false_negatives\n",
    "    "
   ]
  },
  {
   "cell_type": "code",
   "execution_count": 135,
   "id": "6d79eb13",
   "metadata": {},
   "outputs": [
    {
     "name": "stdout",
     "output_type": "stream",
     "text": [
      "Verdaderos positivos : 46\n",
      "Verdaderos negativos : 90\n",
      "Falsos positivos : 3\n",
      "Falsos negativos : 4\n"
     ]
    },
    {
     "data": {
      "text/plain": [
       "(46, 90, 3, 4)"
      ]
     },
     "execution_count": 135,
     "metadata": {},
     "output_type": "execute_result"
    }
   ],
   "source": [
    "matriz_confusion(model01.predict(X_test),X_test,y_test)"
   ]
  },
  {
   "cell_type": "code",
   "execution_count": 136,
   "id": "dbc62b8a",
   "metadata": {},
   "outputs": [
    {
     "name": "stdout",
     "output_type": "stream",
     "text": [
      "Accuracy Score : 0.951048951048951\n",
      "Precision Score : 0.9387755102040817\n",
      "Recall Score : 0.92\n",
      "F1 Score : 0.9292929292929293\n"
     ]
    }
   ],
   "source": [
    "from sklearn.metrics import accuracy_score,recall_score,precision_score,f1_score\n",
    "print('Accuracy Score : ' + str(accuracy_score(y_test,model01.predict(X_test))))\n",
    "print('Precision Score : ' + str(precision_score(y_test,model01.predict(X_test))))\n",
    "print('Recall Score : ' + str(recall_score(y_test,model01.predict(X_test))))\n",
    "print('F1 Score : ' + str(f1_score(y_test,model01.predict(X_test))))"
   ]
  },
  {
   "cell_type": "code",
   "execution_count": 137,
   "id": "fa1caaf0",
   "metadata": {},
   "outputs": [
    {
     "data": {
      "image/png": "[encoded data removed]",
      "text/plain": [
       "<Figure size 432x288 with 2 Axes>"
      ]
     },
     "metadata": {
      "needs_background": "light"
     },
     "output_type": "display_data"
    }
   ],
   "source": [
    "ax = plt.axes()\n",
    "\n",
    "\n",
    "ax.set_title('Matriz de confusión SVM(scipy.optimize)')\n",
    "\n",
    "import seaborn as sn\n",
    "\n",
    "\n",
    "data = {'y_Actual':   y_test,\n",
    "        'y_Predicted': model01.predict(X_test)\n",
    "        }\n",
    "\n",
    "df = pd.DataFrame(data, columns=['y_Actual','y_Predicted'])\n",
    "confusion_matrix = pd.crosstab(df['y_Actual'], df['y_Predicted'], rownames=['Datos'], colnames=['Predicción'])\n",
    "\n",
    "sn.heatmap(confusion_matrix, annot=True, ax=ax)\n",
    "plt.show()"
   ]
  },
  {
   "cell_type": "code",
   "execution_count": 138,
   "id": "5f45d590",
   "metadata": {},
   "outputs": [],
   "source": [
    "data = {'y_Actual':   y_test,\n",
    "        'y_Predicted': model01.predict(X_test)\n",
    "        }\n",
    "\n",
    "df = pd.DataFrame(data, columns=['y_Actual','y_Predicted'])"
   ]
  },
  {
   "cell_type": "code",
   "execution_count": 139,
   "id": "7444c383",
   "metadata": {},
   "outputs": [
    {
     "data": {
      "text/html": [
       "<div>\n",
       "<style scoped>\n",
       "    .dataframe tbody tr th:only-of-type {\n",
       "        vertical-align: middle;\n",
       "    }\n",
       "\n",
       "    .dataframe tbody tr th {\n",
       "        vertical-align: top;\n",
       "    }\n",
       "\n",
       "    .dataframe thead th {\n",
       "        text-align: right;\n",
       "    }\n",
       "</style>\n",
       "<table border=\"1\" class=\"dataframe\">\n",
       "  <thead>\n",
       "    <tr style=\"text-align: right;\">\n",
       "      <th></th>\n",
       "      <th>y_Actual</th>\n",
       "      <th>y_Predicted</th>\n",
       "    </tr>\n",
       "  </thead>\n",
       "  <tbody>\n",
       "    <tr>\n",
       "      <th>0</th>\n",
       "      <td>1</td>\n",
       "      <td>1.0</td>\n",
       "    </tr>\n",
       "    <tr>\n",
       "      <th>1</th>\n",
       "      <td>1</td>\n",
       "      <td>1.0</td>\n",
       "    </tr>\n",
       "    <tr>\n",
       "      <th>2</th>\n",
       "      <td>1</td>\n",
       "      <td>1.0</td>\n",
       "    </tr>\n",
       "    <tr>\n",
       "      <th>3</th>\n",
       "      <td>1</td>\n",
       "      <td>1.0</td>\n",
       "    </tr>\n",
       "    <tr>\n",
       "      <th>4</th>\n",
       "      <td>1</td>\n",
       "      <td>1.0</td>\n",
       "    </tr>\n",
       "  </tbody>\n",
       "</table>\n",
       "</div>"
      ],
      "text/plain": [
       "   y_Actual  y_Predicted\n",
       "0         1          1.0\n",
       "1         1          1.0\n",
       "2         1          1.0\n",
       "3         1          1.0\n",
       "4         1          1.0"
      ]
     },
     "execution_count": 139,
     "metadata": {},
     "output_type": "execute_result"
    }
   ],
   "source": [
    "df.head()"
   ]
  },
  {
   "cell_type": "markdown",
   "id": "28a7ea52",
   "metadata": {},
   "source": [
    "### Comparación el SVM linear de sklearn"
   ]
  },
  {
   "cell_type": "code",
   "execution_count": 119,
   "id": "e3d35252",
   "metadata": {},
   "outputs": [],
   "source": [
    "from sklearn.svm import LinearSVC"
   ]
  },
  {
   "cell_type": "code",
   "execution_count": 120,
   "id": "3b04064d",
   "metadata": {},
   "outputs": [],
   "source": [
    "sk_svm = LinearSVC()"
   ]
  },
  {
   "cell_type": "code",
   "execution_count": 142,
   "id": "380c25c2",
   "metadata": {},
   "outputs": [
    {
     "data": {
      "text/plain": [
       "LinearSVC()"
      ]
     },
     "execution_count": 142,
     "metadata": {},
     "output_type": "execute_result"
    }
   ],
   "source": [
    "sk_svm.fit(X_train,y_train)"
   ]
  },
  {
   "cell_type": "code",
   "execution_count": 143,
   "id": "2b04e5f0",
   "metadata": {},
   "outputs": [],
   "source": [
    "decision_function = sk_svm.decision_function(X_train)\n",
    "    \n",
    "support_vector_indices = np.where(np.abs(decision_function) <= 1 + 1e-15)[0]\n",
    "support_vectors = X_train[support_vector_indices]"
   ]
  },
  {
   "cell_type": "code",
   "execution_count": 144,
   "id": "8f937b76",
   "metadata": {},
   "outputs": [
    {
     "name": "stdout",
     "output_type": "stream",
     "text": [
      "Vector w: [[ 0.21456628  0.75072088  0.24977421  0.57469635 -0.16637386 -0.66314006\n",
      "   1.16676393  1.61612719  0.03503649 -1.04466208  1.64838988 -0.11450261\n",
      "   1.28813342  0.99957483  0.42347495 -0.73264033 -0.34631166  0.01297898\n",
      "  -0.49552401 -0.41408588  1.18305745  1.50781884  1.10501712  1.13556386\n",
      "   0.79341413  0.17005748  0.66502721  0.83704939  1.16813192  0.60803442]]\n",
      "Valor de b: [-3.61095477]\n",
      "N° de vectores soporte 135\n"
     ]
    }
   ],
   "source": [
    "w = sk_svm.coef_ \n",
    "b = sk_svm.intercept_ \n",
    "print(f\"Vector w: {w}\")\n",
    "print(f\"Valor de b: {b}\")\n",
    "print(f\"N° de vectores soporte {len(support_vectors)}\")\n",
    "\n"
   ]
  },
  {
   "cell_type": "code",
   "execution_count": 145,
   "id": "d5a3ce78",
   "metadata": {},
   "outputs": [
    {
     "name": "stdout",
     "output_type": "stream",
     "text": [
      "Verdaderos positivos : 48\n",
      "Verdaderos negativos : 91\n",
      "Falsos positivos : 2\n",
      "Falsos negativos : 2\n"
     ]
    },
    {
     "data": {
      "text/plain": [
       "(48, 91, 2, 2)"
      ]
     },
     "execution_count": 145,
     "metadata": {},
     "output_type": "execute_result"
    }
   ],
   "source": [
    "matriz_confusion(sk_svm.predict(X_test),X_test,y_test)"
   ]
  },
  {
   "cell_type": "code",
   "execution_count": 125,
   "id": "d053d0d2",
   "metadata": {},
   "outputs": [
    {
     "name": "stdout",
     "output_type": "stream",
     "text": [
      "Accuracy Score : 0.916083916083916\n",
      "Precision Score : 0.8857142857142857\n",
      "Recall Score : 1.0\n",
      "F1 Score : 0.9393939393939393\n"
     ]
    }
   ],
   "source": [
    "from sklearn.metrics import accuracy_score,recall_score,precision_score,f1_score\n",
    "print('Accuracy Score : ' + str(accuracy_score(y_test,sk_svm.predict(X_test))))\n",
    "print('Precision Score : ' + str(precision_score(y_test,sk_svm.predict(X_test))))\n",
    "print('Recall Score : ' + str(recall_score(y_test,sk_svm.predict(X_test))))\n",
    "print('F1 Score : ' + str(f1_score(y_test,sk_svm.predict(X_test))))"
   ]
  },
  {
   "cell_type": "code",
   "execution_count": 126,
   "id": "58fbb92e",
   "metadata": {},
   "outputs": [
    {
     "data": {
      "image/png": "[encoded data removed]",
      "text/plain": [
       "<Figure size 432x288 with 2 Axes>"
      ]
     },
     "metadata": {
      "needs_background": "light"
     },
     "output_type": "display_data"
    }
   ],
   "source": [
    "ax = plt.axes()\n",
    "\n",
    "\n",
    "ax.set_title('Matriz de confusión SVM(sklearn)')\n",
    "import seaborn as sn\n",
    "\n",
    "\n",
    "data = {'y_Actual':   y_test,\n",
    "        'y_Predicted': sk_svm.predict(X_test)\n",
    "        }\n",
    "\n",
    "df = pd.DataFrame(data, columns=['y_Actual','y_Predicted'])\n",
    "confusion_matrix = pd.crosstab(df['y_Actual'], df['y_Predicted'], rownames=['Datos'], colnames=['Predicción'])\n",
    "\n",
    "sn.heatmap(confusion_matrix, annot=True,ax=ax)\n",
    "plt.show()"
   ]
  },
  {
   "cell_type": "code",
   "execution_count": 127,
   "id": "a7a5c207",
   "metadata": {},
   "outputs": [],
   "source": [
    "def to_df(): \n",
    "     \n",
    "    \n",
    "    df = np.c_[DT.data, DT.target]\n",
    "    columns = np.append(DT.feature_names, [\"target\"])\n",
    "    return pd.DataFrame(df, columns=columns)\n",
    "\n",
    "df = to_df()"
   ]
  },
  {
   "cell_type": "code",
   "execution_count": null,
   "id": "bc9d832e",
   "metadata": {},
   "outputs": [],
   "source": [
    "df.head()\n",
    "df['mean perimeter']"
   ]
  },
  {
   "cell_type": "code",
   "execution_count": null,
   "id": "f5ee5728",
   "metadata": {},
   "outputs": [],
   "source": [
    "plt.figure(figsize=(20,10))\n",
    "sn.heatmap(df.corr(), annot=True)"
   ]
  },
  {
   "cell_type": "code",
   "execution_count": null,
   "id": "7a996846",
   "metadata": {},
   "outputs": [],
   "source": [
    "\n",
    "def get_redundant_pairs(df):\n",
    "    '''Get diagonal and lower triangular pairs of correlation matrix'''\n",
    "    pairs_to_drop = set()\n",
    "    cols = df.columns\n",
    "    for i in range(0, df.shape[1]):\n",
    "        for j in range(0, i+1):\n",
    "            pairs_to_drop.add((cols[i], cols[j]))\n",
    "    return pairs_to_drop\n",
    "\n",
    "def get_top_abs_correlations(df, n=5):\n",
    "    au_corr = df.corr().abs().unstack()\n",
    "    labels_to_drop = get_redundant_pairs(df)\n",
    "    au_corr = au_corr.drop(labels=labels_to_drop).sort_values(ascending=False)\n",
    "    return au_corr[0:n]\n",
    "\n",
    "print(\"Top Absolute Correlations\")\n",
    "print(get_top_abs_correlations(df, 15))"
   ]
  },
  {
   "cell_type": "code",
   "execution_count": null,
   "id": "f352458a",
   "metadata": {},
   "outputs": [],
   "source": [
    "drop = ['mean perimeter','worst perimeter', 'mean area', 'worst area', 'perimeter error']\n",
    "for i in drop:\n",
    "    df = df.drop([i],axis=1)"
   ]
  },
  {
   "cell_type": "code",
   "execution_count": null,
   "id": "6659ee57",
   "metadata": {},
   "outputs": [],
   "source": [
    "print(\"Top Absolute Correlations\")\n",
    "print(get_top_abs_correlations(df, 15))"
   ]
  },
  {
   "cell_type": "code",
   "execution_count": null,
   "id": "746453f7",
   "metadata": {},
   "outputs": [],
   "source": [
    "drop = ['worst radius','area error', 'mean concave points', 'worst concavity', 'mean concavity']\n",
    "for i in drop:\n",
    "    df = df.drop([i],axis=1)"
   ]
  },
  {
   "cell_type": "code",
   "execution_count": null,
   "id": "d55b3070",
   "metadata": {},
   "outputs": [],
   "source": [
    "print(\"Top Absolute Correlations\")\n",
    "print(get_top_abs_correlations(df, 15))"
   ]
  },
  {
   "cell_type": "code",
   "execution_count": null,
   "id": "4fad8674",
   "metadata": {},
   "outputs": [],
   "source": [
    "drop = ['worst texture','worst compactness']\n",
    "for i in drop:\n",
    "    df = df.drop([i],axis=1)"
   ]
  },
  {
   "cell_type": "code",
   "execution_count": null,
   "id": "401163e9",
   "metadata": {},
   "outputs": [],
   "source": [
    "X = df.copy()\n",
    "X = X.drop(['target'],axis=1)\n",
    "y = df['target']\n",
    "X,y = preprocess(X,y)\n",
    "X_train, X_test, y_train, y_test = train_test_split(X, y, test_size=0.25, random_state=11)"
   ]
  },
  {
   "cell_type": "code",
   "execution_count": null,
   "id": "139d503a",
   "metadata": {},
   "outputs": [],
   "source": [
    "model02 = SVM()\n",
    "model02.fit(X_train, y_train)\n",
    "model02.w, model02.b"
   ]
  },
  {
   "cell_type": "code",
   "execution_count": null,
   "id": "18d94e76",
   "metadata": {},
   "outputs": [],
   "source": [
    "from sklearn.metrics import confusion_matrix"
   ]
  },
  {
   "cell_type": "code",
   "execution_count": null,
   "id": "06f43b39",
   "metadata": {},
   "outputs": [],
   "source": [
    "confusion_matrix(model02.predict(X_test),y_test)"
   ]
  },
  {
   "cell_type": "code",
   "execution_count": null,
   "id": "1a7b76af",
   "metadata": {},
   "outputs": [],
   "source": [
    "from imblearn.under_sampling import RandomUnderSampler"
   ]
  },
  {
   "cell_type": "code",
   "execution_count": null,
   "id": "840e5d97",
   "metadata": {},
   "outputs": [],
   "source": [
    "under = RandomUnderSampler(random_state=42)\n",
    "X_train, y_train = under.fit_resample(X_train, y_train)"
   ]
  },
  {
   "cell_type": "code",
   "execution_count": null,
   "id": "614ab710",
   "metadata": {},
   "outputs": [],
   "source": [
    "model03 = SVM()\n",
    "model03.fit(X_train, y_train)\n",
    "model03.w, model03.b"
   ]
  },
  {
   "cell_type": "code",
   "execution_count": null,
   "id": "bbfa881b",
   "metadata": {},
   "outputs": [],
   "source": [
    "confusion_matrix(model03.predict(X_test),y_test)"
   ]
  },
  {
   "cell_type": "code",
   "execution_count": null,
   "id": "269b7139",
   "metadata": {},
   "outputs": [],
   "source": [
    "sn.pairplot(df, hue='target', vars=['mean radius', 'mean texture', 'mean area', 'mean perimeter', 'mean smoothness'])"
   ]
  },
  {
   "cell_type": "markdown",
   "id": "f9b36d29",
   "metadata": {},
   "source": [
    "### Conclusión"
   ]
  },
  {
   "cell_type": "markdown",
   "id": "68a16d26",
   "metadata": {},
   "source": [
    "#### A través del modelo utilizando scipy optimize para maximizar el margen de clasificación entre clases, se logró un modelo efectivo para separar clases linealmente separables que incluso tiene buenos resultados en casos más complejos como las 30 características del set de datos de Cancer de mamá de Wisconsin. \n",
    "#### Frente al SVM linear por defecto de sklearn, empeora un poco las métricas pero la característica con más desventaja es el tiempo de cómputo que requiere la implementación propuesta que supera ampliamente al modelo de sklearn."
   ]
  },
  {
   "cell_type": "code",
   "execution_count": null,
   "id": "a70b9a1a",
   "metadata": {},
   "outputs": [],
   "source": []
  }
 ],
 "metadata": {
  "kernelspec": {
   "display_name": "Python 3",
   "language": "python",
   "name": "python3"
  },
  "language_info": {
   "codemirror_mode": {
    "name": "ipython",
    "version": 3
   },
   "file_extension": ".py",
   "mimetype": "text/x-python",
   "name": "python",
   "nbconvert_exporter": "python",
   "pygments_lexer": "ipython3",
   "version": "3.8.8"
  }
 },
 "nbformat": 4,
 "nbformat_minor": 5
}
